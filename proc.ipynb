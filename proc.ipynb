{
 "cells": [
  {
   "cell_type": "code",
   "execution_count": 1,
   "id": "d70ac0ec-dc70-4f7a-8d07-4122a9f07b3a",
   "metadata": {},
   "outputs": [],
   "source": [
    "import pandas as pd"
   ]
  },
  {
   "cell_type": "code",
   "execution_count": 32,
   "id": "a740057f-21e0-4709-b3d1-47abf5eae6f3",
   "metadata": {},
   "outputs": [],
   "source": [
    "data = pd.read_csv('L_Kinderwens_anon.csv')"
   ]
  },
  {
   "cell_type": "code",
   "execution_count": 27,
   "id": "c8ac3ce9-948c-459c-9250-2eee232517cb",
   "metadata": {},
   "outputs": [
    {
     "data": {
      "text/plain": [
       "\"Ik zou wel nog open staan voor een tweede kind, maar mijn partner niet. De bevalling was ook traumatisch voor ons beiden, wat ons ook doet twijfelen. '- traumatische bevalling - financiÃ«le ruimte - invloed op mijn werk als zzpâ€™er.\""
      ]
     },
     "execution_count": 27,
     "metadata": {},
     "output_type": "execute_result"
    }
   ],
   "source": [
    "data['text'][1]"
   ]
  },
  {
   "cell_type": "code",
   "execution_count": 20,
   "id": "a01921ff-5775-44cc-baab-4720fa35936f",
   "metadata": {},
   "outputs": [
    {
     "ename": "TypeError",
     "evalue": "unhashable type: 'Series'",
     "output_type": "error",
     "traceback": [
      "\u001b[0;31m---------------------------------------------------------------------------\u001b[0m",
      "\u001b[0;31mTypeError\u001b[0m                                 Traceback (most recent call last)",
      "Cell \u001b[0;32mIn[20], line 1\u001b[0m\n\u001b[0;32m----> 1\u001b[0m \u001b[43mdata\u001b[49m\u001b[43m[\u001b[49m\u001b[38;5;124;43m'\u001b[39;49m\u001b[38;5;124;43mtext\u001b[39;49m\u001b[38;5;124;43m'\u001b[39;49m\u001b[43m]\u001b[49m\u001b[38;5;241;43m.\u001b[39;49m\u001b[43mstr\u001b[49m\u001b[38;5;241;43m.\u001b[39;49m\u001b[43mreplace\u001b[49m\u001b[43m(\u001b[49m\u001b[43mdata\u001b[49m\u001b[43m[\u001b[49m\u001b[38;5;124;43m'\u001b[39;49m\u001b[38;5;124;43mtext2\u001b[39;49m\u001b[38;5;124;43m'\u001b[39;49m\u001b[43m]\u001b[49m\u001b[43m,\u001b[49m\u001b[43m \u001b[49m\u001b[38;5;124;43m'\u001b[39;49m\u001b[38;5;124;43m'\u001b[39;49m\u001b[43m)\u001b[49m\n",
      "File \u001b[0;32m~/anaconda3/lib/python3.10/site-packages/pandas/core/strings/accessor.py:129\u001b[0m, in \u001b[0;36mforbid_nonstring_types.<locals>._forbid_nonstring_types.<locals>.wrapper\u001b[0;34m(self, *args, **kwargs)\u001b[0m\n\u001b[1;32m    124\u001b[0m     msg \u001b[38;5;241m=\u001b[39m (\n\u001b[1;32m    125\u001b[0m         \u001b[38;5;124mf\u001b[39m\u001b[38;5;124m\"\u001b[39m\u001b[38;5;124mCannot use .str.\u001b[39m\u001b[38;5;132;01m{\u001b[39;00mfunc_name\u001b[38;5;132;01m}\u001b[39;00m\u001b[38;5;124m with values of \u001b[39m\u001b[38;5;124m\"\u001b[39m\n\u001b[1;32m    126\u001b[0m         \u001b[38;5;124mf\u001b[39m\u001b[38;5;124m\"\u001b[39m\u001b[38;5;124minferred dtype \u001b[39m\u001b[38;5;124m'\u001b[39m\u001b[38;5;132;01m{\u001b[39;00m\u001b[38;5;28mself\u001b[39m\u001b[38;5;241m.\u001b[39m_inferred_dtype\u001b[38;5;132;01m}\u001b[39;00m\u001b[38;5;124m'\u001b[39m\u001b[38;5;124m.\u001b[39m\u001b[38;5;124m\"\u001b[39m\n\u001b[1;32m    127\u001b[0m     )\n\u001b[1;32m    128\u001b[0m     \u001b[38;5;28;01mraise\u001b[39;00m \u001b[38;5;167;01mTypeError\u001b[39;00m(msg)\n\u001b[0;32m--> 129\u001b[0m \u001b[38;5;28;01mreturn\u001b[39;00m \u001b[43mfunc\u001b[49m\u001b[43m(\u001b[49m\u001b[38;5;28;43mself\u001b[39;49m\u001b[43m,\u001b[49m\u001b[43m \u001b[49m\u001b[38;5;241;43m*\u001b[39;49m\u001b[43margs\u001b[49m\u001b[43m,\u001b[49m\u001b[43m \u001b[49m\u001b[38;5;241;43m*\u001b[39;49m\u001b[38;5;241;43m*\u001b[39;49m\u001b[43mkwargs\u001b[49m\u001b[43m)\u001b[49m\n",
      "File \u001b[0;32m~/anaconda3/lib/python3.10/site-packages/pandas/core/strings/accessor.py:1500\u001b[0m, in \u001b[0;36mStringMethods.replace\u001b[0;34m(self, pat, repl, n, case, flags, regex)\u001b[0m\n\u001b[1;32m   1497\u001b[0m \u001b[38;5;28;01mif\u001b[39;00m case \u001b[38;5;129;01mis\u001b[39;00m \u001b[38;5;28;01mNone\u001b[39;00m:\n\u001b[1;32m   1498\u001b[0m     case \u001b[38;5;241m=\u001b[39m \u001b[38;5;28;01mTrue\u001b[39;00m\n\u001b[0;32m-> 1500\u001b[0m result \u001b[38;5;241m=\u001b[39m \u001b[38;5;28;43mself\u001b[39;49m\u001b[38;5;241;43m.\u001b[39;49m\u001b[43m_data\u001b[49m\u001b[38;5;241;43m.\u001b[39;49m\u001b[43marray\u001b[49m\u001b[38;5;241;43m.\u001b[39;49m\u001b[43m_str_replace\u001b[49m\u001b[43m(\u001b[49m\n\u001b[1;32m   1501\u001b[0m \u001b[43m    \u001b[49m\u001b[43mpat\u001b[49m\u001b[43m,\u001b[49m\u001b[43m \u001b[49m\u001b[43mrepl\u001b[49m\u001b[43m,\u001b[49m\u001b[43m \u001b[49m\u001b[43mn\u001b[49m\u001b[38;5;241;43m=\u001b[39;49m\u001b[43mn\u001b[49m\u001b[43m,\u001b[49m\u001b[43m \u001b[49m\u001b[43mcase\u001b[49m\u001b[38;5;241;43m=\u001b[39;49m\u001b[43mcase\u001b[49m\u001b[43m,\u001b[49m\u001b[43m \u001b[49m\u001b[43mflags\u001b[49m\u001b[38;5;241;43m=\u001b[39;49m\u001b[43mflags\u001b[49m\u001b[43m,\u001b[49m\u001b[43m \u001b[49m\u001b[43mregex\u001b[49m\u001b[38;5;241;43m=\u001b[39;49m\u001b[43mregex\u001b[49m\n\u001b[1;32m   1502\u001b[0m \u001b[43m\u001b[49m\u001b[43m)\u001b[49m\n\u001b[1;32m   1503\u001b[0m \u001b[38;5;28;01mreturn\u001b[39;00m \u001b[38;5;28mself\u001b[39m\u001b[38;5;241m.\u001b[39m_wrap_result(result)\n",
      "File \u001b[0;32m~/anaconda3/lib/python3.10/site-packages/pandas/core/strings/object_array.py:158\u001b[0m, in \u001b[0;36mObjectStringArrayMixin._str_replace\u001b[0;34m(self, pat, repl, n, case, flags, regex)\u001b[0m\n\u001b[1;32m    156\u001b[0m     \u001b[38;5;28;01mif\u001b[39;00m regex \u001b[38;5;129;01mis\u001b[39;00m \u001b[38;5;28;01mFalse\u001b[39;00m:\n\u001b[1;32m    157\u001b[0m         pat \u001b[38;5;241m=\u001b[39m re\u001b[38;5;241m.\u001b[39mescape(pat)\n\u001b[0;32m--> 158\u001b[0m     pat \u001b[38;5;241m=\u001b[39m \u001b[43mre\u001b[49m\u001b[38;5;241;43m.\u001b[39;49m\u001b[43mcompile\u001b[49m\u001b[43m(\u001b[49m\u001b[43mpat\u001b[49m\u001b[43m,\u001b[49m\u001b[43m \u001b[49m\u001b[43mflags\u001b[49m\u001b[38;5;241;43m=\u001b[39;49m\u001b[43mflags\u001b[49m\u001b[43m)\u001b[49m\n\u001b[1;32m    160\u001b[0m n \u001b[38;5;241m=\u001b[39m n \u001b[38;5;28;01mif\u001b[39;00m n \u001b[38;5;241m>\u001b[39m\u001b[38;5;241m=\u001b[39m \u001b[38;5;241m0\u001b[39m \u001b[38;5;28;01melse\u001b[39;00m \u001b[38;5;241m0\u001b[39m\n\u001b[1;32m    161\u001b[0m f \u001b[38;5;241m=\u001b[39m \u001b[38;5;28;01mlambda\u001b[39;00m x: pat\u001b[38;5;241m.\u001b[39msub(repl\u001b[38;5;241m=\u001b[39mrepl, string\u001b[38;5;241m=\u001b[39mx, count\u001b[38;5;241m=\u001b[39mn)\n",
      "File \u001b[0;32m~/anaconda3/lib/python3.10/re.py:251\u001b[0m, in \u001b[0;36mcompile\u001b[0;34m(pattern, flags)\u001b[0m\n\u001b[1;32m    249\u001b[0m \u001b[38;5;28;01mdef\u001b[39;00m \u001b[38;5;21mcompile\u001b[39m(pattern, flags\u001b[38;5;241m=\u001b[39m\u001b[38;5;241m0\u001b[39m):\n\u001b[1;32m    250\u001b[0m     \u001b[38;5;124m\"\u001b[39m\u001b[38;5;124mCompile a regular expression pattern, returning a Pattern object.\u001b[39m\u001b[38;5;124m\"\u001b[39m\n\u001b[0;32m--> 251\u001b[0m     \u001b[38;5;28;01mreturn\u001b[39;00m \u001b[43m_compile\u001b[49m\u001b[43m(\u001b[49m\u001b[43mpattern\u001b[49m\u001b[43m,\u001b[49m\u001b[43m \u001b[49m\u001b[43mflags\u001b[49m\u001b[43m)\u001b[49m\n",
      "File \u001b[0;32m~/anaconda3/lib/python3.10/re.py:293\u001b[0m, in \u001b[0;36m_compile\u001b[0;34m(pattern, flags)\u001b[0m\n\u001b[1;32m    291\u001b[0m     flags \u001b[38;5;241m=\u001b[39m flags\u001b[38;5;241m.\u001b[39mvalue\n\u001b[1;32m    292\u001b[0m \u001b[38;5;28;01mtry\u001b[39;00m:\n\u001b[0;32m--> 293\u001b[0m     \u001b[38;5;28;01mreturn\u001b[39;00m \u001b[43m_cache\u001b[49m\u001b[43m[\u001b[49m\u001b[38;5;28;43mtype\u001b[39;49m\u001b[43m(\u001b[49m\u001b[43mpattern\u001b[49m\u001b[43m)\u001b[49m\u001b[43m,\u001b[49m\u001b[43m \u001b[49m\u001b[43mpattern\u001b[49m\u001b[43m,\u001b[49m\u001b[43m \u001b[49m\u001b[43mflags\u001b[49m\u001b[43m]\u001b[49m\n\u001b[1;32m    294\u001b[0m \u001b[38;5;28;01mexcept\u001b[39;00m \u001b[38;5;167;01mKeyError\u001b[39;00m:\n\u001b[1;32m    295\u001b[0m     \u001b[38;5;28;01mpass\u001b[39;00m\n",
      "\u001b[0;31mTypeError\u001b[0m: unhashable type: 'Series'"
     ]
    }
   ],
   "source": [
    "data['text'].str.replace(data['text2'], '')"
   ]
  },
  {
   "cell_type": "code",
   "execution_count": 35,
   "id": "bf956760-2dcb-4469-a59c-e8bae43cef17",
   "metadata": {},
   "outputs": [],
   "source": [
    "data['text'] = data.apply(lambda x: x['text'][:-len(x['text2'])], axis=1)\n"
   ]
  },
  {
   "cell_type": "code",
   "execution_count": 4,
   "id": "62c593f2-4296-41fa-9872-5a1e9f3b71fa",
   "metadata": {},
   "outputs": [
    {
     "data": {
      "text/plain": [
       "Index(['Unnamed: 0.3', 'Unnamed: 0.2', 'Unnamed: 0.1', '0', '1', '2', '3', '4',\n",
       "       '5', '6',\n",
       "       ...\n",
       "       'ch20m252', 'ch20m253', 'ch20m254', 'ch20m255', 'ch20m257', 'ch20m256',\n",
       "       'ch20m258', 'ch20m259', 'edulevel', 'text1'],\n",
       "      dtype='object', length=541)"
      ]
     },
     "execution_count": 4,
     "metadata": {},
     "output_type": "execute_result"
    }
   ],
   "source": [
    "data.columns"
   ]
  },
  {
   "cell_type": "code",
   "execution_count": 39,
   "id": "9f473dc2-5a6c-498e-9277-f12c1507ea14",
   "metadata": {},
   "outputs": [],
   "source": [
    "df = data[['age', 'text', 'income', 'partner', 'education', 'maternity', 'intention', 'positivity', 'certainty']]"
   ]
  },
  {
   "cell_type": "code",
   "execution_count": 40,
   "id": "71ee25dd-7a23-4f75-a39f-1bcfcc6dc86f",
   "metadata": {},
   "outputs": [
    {
     "data": {
      "text/html": [
       "<div>\n",
       "<style scoped>\n",
       "    .dataframe tbody tr th:only-of-type {\n",
       "        vertical-align: middle;\n",
       "    }\n",
       "\n",
       "    .dataframe tbody tr th {\n",
       "        vertical-align: top;\n",
       "    }\n",
       "\n",
       "    .dataframe thead th {\n",
       "        text-align: right;\n",
       "    }\n",
       "</style>\n",
       "<table border=\"1\" class=\"dataframe\">\n",
       "  <thead>\n",
       "    <tr style=\"text-align: right;\">\n",
       "      <th></th>\n",
       "      <th>age</th>\n",
       "      <th>text</th>\n",
       "      <th>income</th>\n",
       "      <th>partner</th>\n",
       "      <th>education</th>\n",
       "      <th>maternity</th>\n",
       "      <th>intention</th>\n",
       "      <th>positivity</th>\n",
       "      <th>certainty</th>\n",
       "    </tr>\n",
       "  </thead>\n",
       "  <tbody>\n",
       "    <tr>\n",
       "      <th>0</th>\n",
       "      <td>30</td>\n",
       "      <td>Ik ben nog niet getrouwd</td>\n",
       "      <td>NaN</td>\n",
       "      <td>Ja</td>\n",
       "      <td>havo/vwo</td>\n",
       "      <td>False</td>\n",
       "      <td>Weet het niet</td>\n",
       "      <td>False</td>\n",
       "      <td>False</td>\n",
       "    </tr>\n",
       "    <tr>\n",
       "      <th>1</th>\n",
       "      <td>33</td>\n",
       "      <td>Ik zou wel nog open staan voor een tweede kind...</td>\n",
       "      <td>NaN</td>\n",
       "      <td>Ja</td>\n",
       "      <td>wo</td>\n",
       "      <td>True</td>\n",
       "      <td>Weet het niet</td>\n",
       "      <td>False</td>\n",
       "      <td>False</td>\n",
       "    </tr>\n",
       "    <tr>\n",
       "      <th>2</th>\n",
       "      <td>25</td>\n",
       "      <td>Onzekerheden voor het kind zijn toekomst.</td>\n",
       "      <td>NaN</td>\n",
       "      <td>Ja</td>\n",
       "      <td>mbo</td>\n",
       "      <td>False</td>\n",
       "      <td>Waarschijnlijk wel</td>\n",
       "      <td>True</td>\n",
       "      <td>False</td>\n",
       "    </tr>\n",
       "    <tr>\n",
       "      <th>3</th>\n",
       "      <td>25</td>\n",
       "      <td>Ik ben erg gevoelig voor prikkels en drukte om...</td>\n",
       "      <td>1040.0</td>\n",
       "      <td>Nee</td>\n",
       "      <td>havo/vwo</td>\n",
       "      <td>False</td>\n",
       "      <td>Waarschijnlijk niet</td>\n",
       "      <td>False</td>\n",
       "      <td>False</td>\n",
       "    </tr>\n",
       "    <tr>\n",
       "      <th>4</th>\n",
       "      <td>25</td>\n",
       "      <td>Binnen 3 jaar vind ik misschien nog te vroeg, ...</td>\n",
       "      <td>2900.0</td>\n",
       "      <td>Ja</td>\n",
       "      <td>wo</td>\n",
       "      <td>False</td>\n",
       "      <td>Waarschijnlijk wel</td>\n",
       "      <td>True</td>\n",
       "      <td>False</td>\n",
       "    </tr>\n",
       "    <tr>\n",
       "      <th>...</th>\n",
       "      <td>...</td>\n",
       "      <td>...</td>\n",
       "      <td>...</td>\n",
       "      <td>...</td>\n",
       "      <td>...</td>\n",
       "      <td>...</td>\n",
       "      <td>...</td>\n",
       "      <td>...</td>\n",
       "      <td>...</td>\n",
       "    </tr>\n",
       "    <tr>\n",
       "      <th>418</th>\n",
       "      <td>28</td>\n",
       "      <td>Ik ben er nu niet aan toe, en weet niet zeker ...</td>\n",
       "      <td>2750.0</td>\n",
       "      <td>Ja</td>\n",
       "      <td>wo</td>\n",
       "      <td>False</td>\n",
       "      <td>Weet het niet</td>\n",
       "      <td>False</td>\n",
       "      <td>False</td>\n",
       "    </tr>\n",
       "    <tr>\n",
       "      <th>419</th>\n",
       "      <td>28</td>\n",
       "      <td>eerst een partner vinden</td>\n",
       "      <td>NaN</td>\n",
       "      <td>Nee</td>\n",
       "      <td>havo/vwo</td>\n",
       "      <td>False</td>\n",
       "      <td>Waarschijnlijk wel</td>\n",
       "      <td>True</td>\n",
       "      <td>False</td>\n",
       "    </tr>\n",
       "    <tr>\n",
       "      <th>420</th>\n",
       "      <td>41</td>\n",
       "      <td>Ik heb verder geen kinderwens meer, en mijn ma...</td>\n",
       "      <td>1350.0</td>\n",
       "      <td>Ja</td>\n",
       "      <td>mbo</td>\n",
       "      <td>True</td>\n",
       "      <td>Zeker niet</td>\n",
       "      <td>False</td>\n",
       "      <td>True</td>\n",
       "    </tr>\n",
       "    <tr>\n",
       "      <th>421</th>\n",
       "      <td>27</td>\n",
       "      <td></td>\n",
       "      <td>2300.0</td>\n",
       "      <td>Ja</td>\n",
       "      <td>mbo</td>\n",
       "      <td>False</td>\n",
       "      <td>Weet het niet</td>\n",
       "      <td>False</td>\n",
       "      <td>False</td>\n",
       "    </tr>\n",
       "    <tr>\n",
       "      <th>422</th>\n",
       "      <td>28</td>\n",
       "      <td>Gezien de COVID situatie en de situatie die zi...</td>\n",
       "      <td>2600.0</td>\n",
       "      <td>Ja</td>\n",
       "      <td>mbo</td>\n",
       "      <td>True</td>\n",
       "      <td>Waarschijnlijk niet</td>\n",
       "      <td>False</td>\n",
       "      <td>False</td>\n",
       "    </tr>\n",
       "  </tbody>\n",
       "</table>\n",
       "<p>423 rows × 9 columns</p>\n",
       "</div>"
      ],
      "text/plain": [
       "     age                                               text  income partner  \\\n",
       "0     30                          Ik ben nog niet getrouwd      NaN      Ja   \n",
       "1     33  Ik zou wel nog open staan voor een tweede kind...     NaN      Ja   \n",
       "2     25         Onzekerheden voor het kind zijn toekomst.      NaN      Ja   \n",
       "3     25  Ik ben erg gevoelig voor prikkels en drukte om...  1040.0     Nee   \n",
       "4     25  Binnen 3 jaar vind ik misschien nog te vroeg, ...  2900.0      Ja   \n",
       "..   ...                                                ...     ...     ...   \n",
       "418   28  Ik ben er nu niet aan toe, en weet niet zeker ...  2750.0      Ja   \n",
       "419   28                          eerst een partner vinden      NaN     Nee   \n",
       "420   41  Ik heb verder geen kinderwens meer, en mijn ma...  1350.0      Ja   \n",
       "421   27                                                     2300.0      Ja   \n",
       "422   28  Gezien de COVID situatie en de situatie die zi...  2600.0      Ja   \n",
       "\n",
       "    education  maternity            intention  positivity  certainty  \n",
       "0    havo/vwo      False        Weet het niet       False      False  \n",
       "1          wo       True        Weet het niet       False      False  \n",
       "2         mbo      False   Waarschijnlijk wel        True      False  \n",
       "3    havo/vwo      False  Waarschijnlijk niet       False      False  \n",
       "4          wo      False   Waarschijnlijk wel        True      False  \n",
       "..        ...        ...                  ...         ...        ...  \n",
       "418        wo      False        Weet het niet       False      False  \n",
       "419  havo/vwo      False   Waarschijnlijk wel        True      False  \n",
       "420       mbo       True           Zeker niet       False       True  \n",
       "421       mbo      False        Weet het niet       False      False  \n",
       "422       mbo       True  Waarschijnlijk niet       False      False  \n",
       "\n",
       "[423 rows x 9 columns]"
      ]
     },
     "execution_count": 40,
     "metadata": {},
     "output_type": "execute_result"
    }
   ],
   "source": [
    "df"
   ]
  },
  {
   "cell_type": "code",
   "execution_count": 41,
   "id": "6acd993a-c94d-41db-9b36-3ebaaf1dfd8c",
   "metadata": {},
   "outputs": [],
   "source": [
    "df.to_csv('fertility_intentions.csv')"
   ]
  }
 ],
 "metadata": {
  "kernelspec": {
   "display_name": "Python 3 (ipykernel)",
   "language": "python",
   "name": "python3"
  },
  "language_info": {
   "codemirror_mode": {
    "name": "ipython",
    "version": 3
   },
   "file_extension": ".py",
   "mimetype": "text/x-python",
   "name": "python",
   "nbconvert_exporter": "python",
   "pygments_lexer": "ipython3",
   "version": "3.10.9"
  }
 },
 "nbformat": 4,
 "nbformat_minor": 5
}
